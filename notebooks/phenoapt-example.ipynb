{
 "cells": [
  {
   "cell_type": "code",
   "execution_count": 2,
   "metadata": {},
   "outputs": [],
   "source": [
    "from phenoapt import PhenoApt\n",
    "import pandas as pd"
   ]
  },
  {
   "cell_type": "code",
   "execution_count": 3,
   "metadata": {},
   "outputs": [],
   "source": [
    "client = PhenoApt()"
   ]
  },
  {
   "cell_type": "code",
   "execution_count": 4,
   "metadata": {},
   "outputs": [],
   "source": [
    "result = client.rank_gene(['HP:0001193','HP:0001231','HP:0002999','HP:0003621','bad_phenotype'], weight=[1,2,2,1,6], n=5)"
   ]
  },
  {
   "cell_type": "code",
   "execution_count": 5,
   "metadata": {},
   "outputs": [
    {
     "data": {
      "text/html": [
       "\n",
       "                <div>\n",
       "                    <h3>Unmatched Phenotypes</h3>\n",
       "                    <p>bad_phenotype</p>\n",
       "                </div>\n",
       "            <div><h3>PhenoApt Rankings</h3></div><div>\n",
       "<style scoped>\n",
       "    .dataframe tbody tr th:only-of-type {\n",
       "        vertical-align: middle;\n",
       "    }\n",
       "\n",
       "    .dataframe tbody tr th {\n",
       "        vertical-align: top;\n",
       "    }\n",
       "\n",
       "    .dataframe thead th {\n",
       "        text-align: right;\n",
       "    }\n",
       "</style>\n",
       "<table border=\"1\" class=\"dataframe\">\n",
       "  <thead>\n",
       "    <tr style=\"text-align: right;\">\n",
       "      <th></th>\n",
       "      <th>rank</th>\n",
       "      <th>score</th>\n",
       "      <th>entrez_id</th>\n",
       "      <th>gene_symbol</th>\n",
       "      <th>known_disease</th>\n",
       "      <th>links</th>\n",
       "    </tr>\n",
       "  </thead>\n",
       "  <tbody>\n",
       "    <tr>\n",
       "      <th>0</th>\n",
       "      <td>1</td>\n",
       "      <td>36.25486391092656</td>\n",
       "      <td>EZ:8200</td>\n",
       "      <td>GDF5</td>\n",
       "      <td>[{'disease_id': 'OMD:615298', 'disease_name': ...</td>\n",
       "      <td>[{'name': 'NCBI', 'url': 'https://www.ncbi.nlm...</td>\n",
       "    </tr>\n",
       "    <tr>\n",
       "      <th>1</th>\n",
       "      <td>2</td>\n",
       "      <td>36.905135248636725</td>\n",
       "      <td>EZ:2697</td>\n",
       "      <td>GJA1</td>\n",
       "      <td>[{'disease_id': 'OMD:617525', 'disease_name': ...</td>\n",
       "      <td>[{'name': 'NCBI', 'url': 'https://www.ncbi.nlm...</td>\n",
       "    </tr>\n",
       "    <tr>\n",
       "      <th>2</th>\n",
       "      <td>3</td>\n",
       "      <td>39.761525814268616</td>\n",
       "      <td>EZ:51360</td>\n",
       "      <td>MBTPS2</td>\n",
       "      <td>[{'disease_id': 'OMD:308800', 'disease_name': ...</td>\n",
       "      <td>[{'name': 'NCBI', 'url': 'https://www.ncbi.nlm...</td>\n",
       "    </tr>\n",
       "    <tr>\n",
       "      <th>3</th>\n",
       "      <td>4</td>\n",
       "      <td>42.760101175914</td>\n",
       "      <td>EZ:2316</td>\n",
       "      <td>FLNA</td>\n",
       "      <td>[{'disease_id': 'OMD:314400', 'disease_name': ...</td>\n",
       "      <td>[{'name': 'NCBI', 'url': 'https://www.ncbi.nlm...</td>\n",
       "    </tr>\n",
       "    <tr>\n",
       "      <th>4</th>\n",
       "      <td>5</td>\n",
       "      <td>43.28835025813022</td>\n",
       "      <td>EZ:10682</td>\n",
       "      <td>EBP</td>\n",
       "      <td>[{'disease_id': 'ORPD:352487', 'disease_name':...</td>\n",
       "      <td>[{'name': 'NCBI', 'url': 'https://www.ncbi.nlm...</td>\n",
       "    </tr>\n",
       "  </tbody>\n",
       "</table>\n",
       "</div>"
      ],
      "text/plain": [
       "<phenoapt.phenoapt.PhenoAptResult at 0x1083f3358>"
      ]
     },
     "execution_count": 5,
     "metadata": {},
     "output_type": "execute_result"
    }
   ],
   "source": [
    "result"
   ]
  },
  {
   "cell_type": "code",
   "execution_count": 6,
   "metadata": {},
   "outputs": [],
   "source": [
    "result = client.rank_disease(['HP:0001193','HP:0001231','HP:0002999','HP:0003621','bad_phenotype'], weight=[1,2,2,1,6], n=5)"
   ]
  },
  {
   "cell_type": "code",
   "execution_count": 7,
   "metadata": {},
   "outputs": [
    {
     "data": {
      "text/html": [
       "\n",
       "                <div>\n",
       "                    <h3>Unmatched Phenotypes</h3>\n",
       "                    <p>bad_phenotype</p>\n",
       "                </div>\n",
       "            <div><h3>PhenoApt Rankings</h3></div><div>\n",
       "<style scoped>\n",
       "    .dataframe tbody tr th:only-of-type {\n",
       "        vertical-align: middle;\n",
       "    }\n",
       "\n",
       "    .dataframe tbody tr th {\n",
       "        vertical-align: top;\n",
       "    }\n",
       "\n",
       "    .dataframe thead th {\n",
       "        text-align: right;\n",
       "    }\n",
       "</style>\n",
       "<table border=\"1\" class=\"dataframe\">\n",
       "  <thead>\n",
       "    <tr style=\"text-align: right;\">\n",
       "      <th></th>\n",
       "      <th>rank</th>\n",
       "      <th>score</th>\n",
       "      <th>disease_id</th>\n",
       "      <th>disease_name</th>\n",
       "      <th>known_gene</th>\n",
       "      <th>links</th>\n",
       "    </tr>\n",
       "  </thead>\n",
       "  <tbody>\n",
       "    <tr>\n",
       "      <th>0</th>\n",
       "      <td>1</td>\n",
       "      <td>31.617025134165825</td>\n",
       "      <td>OMD:228900</td>\n",
       "      <td>FIBULAR HYPOPLASIA AND COMPLEX BRACHYDACTYLY</td>\n",
       "      <td>[{'gene_id': 'EZ:8200', 'gene_symbol': 'GDF5',...</td>\n",
       "      <td>[{'name': 'OMIM', 'url': 'https://www.omim.org...</td>\n",
       "    </tr>\n",
       "    <tr>\n",
       "      <th>1</th>\n",
       "      <td>2</td>\n",
       "      <td>33.10580219856618</td>\n",
       "      <td>OMD:215140</td>\n",
       "      <td>GREENBERG DYSPLASIA; GRBGD</td>\n",
       "      <td>[{'gene_id': 'EZ:3930', 'gene_symbol': 'LBR', ...</td>\n",
       "      <td>[{'name': 'OMIM', 'url': 'https://www.omim.org...</td>\n",
       "    </tr>\n",
       "    <tr>\n",
       "      <th>2</th>\n",
       "      <td>3</td>\n",
       "      <td>33.19940804221513</td>\n",
       "      <td>OMD:161200</td>\n",
       "      <td>NAIL-PATELLA SYNDROME; NPS</td>\n",
       "      <td>[{'gene_id': 'EZ:4010', 'gene_symbol': 'LMX1B'...</td>\n",
       "      <td>[{'name': 'OMIM', 'url': 'https://www.omim.org...</td>\n",
       "    </tr>\n",
       "    <tr>\n",
       "      <th>3</th>\n",
       "      <td>4</td>\n",
       "      <td>35.80130998679867</td>\n",
       "      <td>OMD:308205</td>\n",
       "      <td>IFAP SYNDROME WITH OR WITHOUT BRESHECK SYNDROME</td>\n",
       "      <td>[{'gene_id': 'EZ:51360', 'gene_symbol': 'MBTPS...</td>\n",
       "      <td>[{'name': 'OMIM', 'url': 'https://www.omim.org...</td>\n",
       "    </tr>\n",
       "    <tr>\n",
       "      <th>4</th>\n",
       "      <td>5</td>\n",
       "      <td>36.68166468640497</td>\n",
       "      <td>OMD:302960</td>\n",
       "      <td>CHONDRODYSPLASIA PUNCTATA 2, X-LINKED DOMINANT...</td>\n",
       "      <td>[{'gene_id': 'EZ:10682', 'gene_symbol': 'EBP',...</td>\n",
       "      <td>[{'name': 'OMIM', 'url': 'https://www.omim.org...</td>\n",
       "    </tr>\n",
       "  </tbody>\n",
       "</table>\n",
       "</div>"
      ],
      "text/plain": [
       "<phenoapt.phenoapt.PhenoAptResult at 0x1084b3550>"
      ]
     },
     "execution_count": 7,
     "metadata": {},
     "output_type": "execute_result"
    }
   ],
   "source": [
    "result"
   ]
  },
  {
   "cell_type": "code",
   "execution_count": 8,
   "metadata": {},
   "outputs": [
    {
     "data": {
      "text/plain": [
       "['bad_phenotype']"
      ]
     },
     "execution_count": 8,
     "metadata": {},
     "output_type": "execute_result"
    }
   ],
   "source": [
    "result.unmatched"
   ]
  },
  {
   "cell_type": "code",
   "execution_count": 9,
   "metadata": {},
   "outputs": [
    {
     "data": {
      "text/html": [
       "<div>\n",
       "<style scoped>\n",
       "    .dataframe tbody tr th:only-of-type {\n",
       "        vertical-align: middle;\n",
       "    }\n",
       "\n",
       "    .dataframe tbody tr th {\n",
       "        vertical-align: top;\n",
       "    }\n",
       "\n",
       "    .dataframe thead th {\n",
       "        text-align: right;\n",
       "    }\n",
       "</style>\n",
       "<table border=\"1\" class=\"dataframe\">\n",
       "  <thead>\n",
       "    <tr style=\"text-align: right;\">\n",
       "      <th></th>\n",
       "      <th>hpo_id</th>\n",
       "      <th>weight</th>\n",
       "    </tr>\n",
       "  </thead>\n",
       "  <tbody>\n",
       "    <tr>\n",
       "      <th>0</th>\n",
       "      <td>HP:0001193</td>\n",
       "      <td>1</td>\n",
       "    </tr>\n",
       "    <tr>\n",
       "      <th>1</th>\n",
       "      <td>HP:0001231</td>\n",
       "      <td>2</td>\n",
       "    </tr>\n",
       "    <tr>\n",
       "      <th>2</th>\n",
       "      <td>HP:0002999</td>\n",
       "      <td>2</td>\n",
       "    </tr>\n",
       "    <tr>\n",
       "      <th>3</th>\n",
       "      <td>HP:0003621</td>\n",
       "      <td>1</td>\n",
       "    </tr>\n",
       "  </tbody>\n",
       "</table>\n",
       "</div>"
      ],
      "text/plain": [
       "       hpo_id weight\n",
       "0  HP:0001193      1\n",
       "1  HP:0001231      2\n",
       "2  HP:0002999      2\n",
       "3  HP:0003621      1"
      ]
     },
     "execution_count": 9,
     "metadata": {},
     "output_type": "execute_result"
    }
   ],
   "source": [
    "pd.DataFrame(result.matched, columns=['hpo_id', 'weight'])"
   ]
  },
  {
   "cell_type": "code",
   "execution_count": 10,
   "metadata": {},
   "outputs": [
    {
     "data": {
      "text/plain": [
       "[{'disease_id': 'OMD:228900',\n",
       "  'disease_name': 'FIBULAR HYPOPLASIA AND COMPLEX BRACHYDACTYLY',\n",
       "  'known_gene': [{'gene_id': 'EZ:8200',\n",
       "    'gene_symbol': 'GDF5',\n",
       "    'url': 'https://www.ncbi.nlm.nih.gov/gene/8200'}],\n",
       "  'links': [{'name': 'OMIM', 'url': 'https://www.omim.org/entry/228900'},\n",
       "   {'name': 'Google Scholar',\n",
       "    'url': 'https://scholar.google.com/scholar?q=FIBULAR HYPOPLASIA AND COMPLEX BRACHYDACTYLY'}],\n",
       "  'rank': 1,\n",
       "  'score': '31.617025134165825'},\n",
       " {'disease_id': 'OMD:215140',\n",
       "  'disease_name': 'GREENBERG DYSPLASIA; GRBGD',\n",
       "  'known_gene': [{'gene_id': 'EZ:3930',\n",
       "    'gene_symbol': 'LBR',\n",
       "    'url': 'https://www.ncbi.nlm.nih.gov/gene/3930'}],\n",
       "  'links': [{'name': 'OMIM', 'url': 'https://www.omim.org/entry/215140'},\n",
       "   {'name': 'Google Scholar',\n",
       "    'url': 'https://scholar.google.com/scholar?q=GREENBERG DYSPLASIA; GRBGD'}],\n",
       "  'rank': 2,\n",
       "  'score': '33.10580219856618'}]"
      ]
     },
     "execution_count": 10,
     "metadata": {},
     "output_type": "execute_result"
    }
   ],
   "source": [
    "result.rank[:2]"
   ]
  },
  {
   "cell_type": "code",
   "execution_count": 11,
   "metadata": {},
   "outputs": [
    {
     "data": {
      "text/html": [
       "<div>\n",
       "<style scoped>\n",
       "    .dataframe tbody tr th:only-of-type {\n",
       "        vertical-align: middle;\n",
       "    }\n",
       "\n",
       "    .dataframe tbody tr th {\n",
       "        vertical-align: top;\n",
       "    }\n",
       "\n",
       "    .dataframe thead th {\n",
       "        text-align: right;\n",
       "    }\n",
       "</style>\n",
       "<table border=\"1\" class=\"dataframe\">\n",
       "  <thead>\n",
       "    <tr style=\"text-align: right;\">\n",
       "      <th></th>\n",
       "      <th>rank</th>\n",
       "      <th>score</th>\n",
       "      <th>disease_id</th>\n",
       "      <th>disease_name</th>\n",
       "      <th>known_gene</th>\n",
       "      <th>links</th>\n",
       "    </tr>\n",
       "  </thead>\n",
       "  <tbody>\n",
       "    <tr>\n",
       "      <th>0</th>\n",
       "      <td>1</td>\n",
       "      <td>31.617025134165825</td>\n",
       "      <td>OMD:228900</td>\n",
       "      <td>FIBULAR HYPOPLASIA AND COMPLEX BRACHYDACTYLY</td>\n",
       "      <td>[{'gene_id': 'EZ:8200', 'gene_symbol': 'GDF5',...</td>\n",
       "      <td>[{'name': 'OMIM', 'url': 'https://www.omim.org...</td>\n",
       "    </tr>\n",
       "    <tr>\n",
       "      <th>1</th>\n",
       "      <td>2</td>\n",
       "      <td>33.10580219856618</td>\n",
       "      <td>OMD:215140</td>\n",
       "      <td>GREENBERG DYSPLASIA; GRBGD</td>\n",
       "      <td>[{'gene_id': 'EZ:3930', 'gene_symbol': 'LBR', ...</td>\n",
       "      <td>[{'name': 'OMIM', 'url': 'https://www.omim.org...</td>\n",
       "    </tr>\n",
       "    <tr>\n",
       "      <th>2</th>\n",
       "      <td>3</td>\n",
       "      <td>33.19940804221513</td>\n",
       "      <td>OMD:161200</td>\n",
       "      <td>NAIL-PATELLA SYNDROME; NPS</td>\n",
       "      <td>[{'gene_id': 'EZ:4010', 'gene_symbol': 'LMX1B'...</td>\n",
       "      <td>[{'name': 'OMIM', 'url': 'https://www.omim.org...</td>\n",
       "    </tr>\n",
       "    <tr>\n",
       "      <th>3</th>\n",
       "      <td>4</td>\n",
       "      <td>35.80130998679867</td>\n",
       "      <td>OMD:308205</td>\n",
       "      <td>IFAP SYNDROME WITH OR WITHOUT BRESHECK SYNDROME</td>\n",
       "      <td>[{'gene_id': 'EZ:51360', 'gene_symbol': 'MBTPS...</td>\n",
       "      <td>[{'name': 'OMIM', 'url': 'https://www.omim.org...</td>\n",
       "    </tr>\n",
       "    <tr>\n",
       "      <th>4</th>\n",
       "      <td>5</td>\n",
       "      <td>36.68166468640497</td>\n",
       "      <td>OMD:302960</td>\n",
       "      <td>CHONDRODYSPLASIA PUNCTATA 2, X-LINKED DOMINANT...</td>\n",
       "      <td>[{'gene_id': 'EZ:10682', 'gene_symbol': 'EBP',...</td>\n",
       "      <td>[{'name': 'OMIM', 'url': 'https://www.omim.org...</td>\n",
       "    </tr>\n",
       "  </tbody>\n",
       "</table>\n",
       "</div>"
      ],
      "text/plain": [
       "   rank               score  disease_id  \\\n",
       "0     1  31.617025134165825  OMD:228900   \n",
       "1     2   33.10580219856618  OMD:215140   \n",
       "2     3   33.19940804221513  OMD:161200   \n",
       "3     4   35.80130998679867  OMD:308205   \n",
       "4     5   36.68166468640497  OMD:302960   \n",
       "\n",
       "                                        disease_name  \\\n",
       "0       FIBULAR HYPOPLASIA AND COMPLEX BRACHYDACTYLY   \n",
       "1                         GREENBERG DYSPLASIA; GRBGD   \n",
       "2                         NAIL-PATELLA SYNDROME; NPS   \n",
       "3    IFAP SYNDROME WITH OR WITHOUT BRESHECK SYNDROME   \n",
       "4  CHONDRODYSPLASIA PUNCTATA 2, X-LINKED DOMINANT...   \n",
       "\n",
       "                                          known_gene  \\\n",
       "0  [{'gene_id': 'EZ:8200', 'gene_symbol': 'GDF5',...   \n",
       "1  [{'gene_id': 'EZ:3930', 'gene_symbol': 'LBR', ...   \n",
       "2  [{'gene_id': 'EZ:4010', 'gene_symbol': 'LMX1B'...   \n",
       "3  [{'gene_id': 'EZ:51360', 'gene_symbol': 'MBTPS...   \n",
       "4  [{'gene_id': 'EZ:10682', 'gene_symbol': 'EBP',...   \n",
       "\n",
       "                                               links  \n",
       "0  [{'name': 'OMIM', 'url': 'https://www.omim.org...  \n",
       "1  [{'name': 'OMIM', 'url': 'https://www.omim.org...  \n",
       "2  [{'name': 'OMIM', 'url': 'https://www.omim.org...  \n",
       "3  [{'name': 'OMIM', 'url': 'https://www.omim.org...  \n",
       "4  [{'name': 'OMIM', 'url': 'https://www.omim.org...  "
      ]
     },
     "execution_count": 11,
     "metadata": {},
     "output_type": "execute_result"
    }
   ],
   "source": [
    "result.rank_frame"
   ]
  },
  {
   "cell_type": "code",
   "execution_count": null,
   "metadata": {},
   "outputs": [],
   "source": []
  }
 ],
 "metadata": {
  "kernelspec": {
   "display_name": "Python 3",
   "language": "python",
   "name": "python3"
  },
  "language_info": {
   "codemirror_mode": {
    "name": "ipython",
    "version": 3
   },
   "file_extension": ".py",
   "mimetype": "text/x-python",
   "name": "python",
   "nbconvert_exporter": "python",
   "pygments_lexer": "ipython3",
   "version": "3.7.3"
  }
 },
 "nbformat": 4,
 "nbformat_minor": 4
}
